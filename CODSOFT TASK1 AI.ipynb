{
 "cells": [
  {
   "cell_type": "code",
   "execution_count": null,
   "id": "f5a2519d-1188-469f-8928-0074c247c9ad",
   "metadata": {},
   "outputs": [],
   "source": [
    "CHATBOT WITH RULE BASED RESPONSES"
   ]
  },
  {
   "cell_type": "code",
   "execution_count": null,
   "id": "098849bf-2ed3-40b0-9b09-8cba89d30c36",
   "metadata": {},
   "outputs": [],
   "source": [
    "Build a simple chatbot that responds to user inputs based on\n",
    "predefined rules. Use if-else statements or pattern matching\n",
    "techniques to identify user queries and provide appropriate\n",
    "responses. This will give you a basic understanding of natural\n",
    "\n",
    "language processing and conversation flow."
   ]
  },
  {
   "cell_type": "code",
   "execution_count": 2,
   "id": "91934487-ad95-4e90-9e18-3613420584e4",
   "metadata": {
    "scrolled": true
   },
   "outputs": [
    {
     "name": "stdout",
     "output_type": "stream",
     "text": [
      "Welcome to SRM chatbot! Type 'bye' to exit.\n"
     ]
    },
    {
     "name": "stdin",
     "output_type": "stream",
     "text": [
      "You:  HI\n"
     ]
    },
    {
     "name": "stdout",
     "output_type": "stream",
     "text": [
      "Chatbot: Hello! How can I assist you today?\n"
     ]
    },
    {
     "name": "stdin",
     "output_type": "stream",
     "text": [
      "You:  HOW ARE YOU\n"
     ]
    },
    {
     "name": "stdout",
     "output_type": "stream",
     "text": [
      "Chatbot: I'm a bot, so I'm always functioning optimally! How can I help you?\n"
     ]
    },
    {
     "name": "stdin",
     "output_type": "stream",
     "text": [
      "You:  WHAT IS YOUR NAME\n"
     ]
    },
    {
     "name": "stdout",
     "output_type": "stream",
     "text": [
      "Chatbot: I'm Codsoft's chatbot. What's yours?\n"
     ]
    },
    {
     "name": "stdin",
     "output_type": "stream",
     "text": [
      "You:  MY NAME IS PRATEEK\n"
     ]
    },
    {
     "name": "stdout",
     "output_type": "stream",
     "text": [
      "Chatbot: I'm not sure I understand. Can you please rephrase or ask something else?\n"
     ]
    },
    {
     "name": "stdin",
     "output_type": "stream",
     "text": [
      "You:  GOODBYE \n"
     ]
    },
    {
     "name": "stdout",
     "output_type": "stream",
     "text": [
      "Chatbot: Goodbye! Have a great day!\n"
     ]
    }
   ],
   "source": [
    "import re\n",
    "\n",
    "def get_response(user_input):\n",
    "    \"\"\"\n",
    "    Get a response based on predefined rules and user input.\n",
    "    \n",
    "    Parameters:\n",
    "        user_input (str): The user's input string.\n",
    "        \n",
    "    Returns:\n",
    "        str: The chatbot's response.\n",
    "    \"\"\"\n",
    "    user_input = user_input.lower()\n",
    "\n",
    "    if re.search(r'\\b(hi|hello|hey|greetings)\\b', user_input):\n",
    "        return \"Hello! How can I assist you today?\"\n",
    "    elif re.search(r'\\bhow are you\\b', user_input):\n",
    "        return \"I'm a bot, so I'm always functioning optimally! How can I help you?\"\n",
    "    elif re.search(r'\\bwhat is your name\\b', user_input):\n",
    "        return \"I'm Codsoft's chatbot. What's yours?\"\n",
    "    elif re.search(r'\\b(bye|goodbye|see you)\\b', user_input):\n",
    "        return \"Goodbye! Have a great day!\"\n",
    "    elif re.search(r'\\bhow is the weather\\b', user_input):\n",
    "        return \"I don't have access to real-time weather data, but you can check a weather website for the latest updates.\"\n",
    "    elif re.search(r'\\bwhat can you do\\b', user_input):\n",
    "        return \"I can chat with you and provide information based on predefined rules. How can I assist you?\"\n",
    "    elif re.search(r'\\b(.*favorite color.*)\\b', user_input):\n",
    "        return \"As a bot, I don't have personal preferences, but I think all colors are wonderful!\"\n",
    "    elif re.search(r'\\b(.*your creator.*)\\b', user_input):\n",
    "        return \"I was created by the Codsoft team to assist you with your queries.\"\n",
    "    elif re.search(r'\\b(.*tell me a joke.*)\\b', user_input):\n",
    "        return \"Why don't scientists trust atoms? Because they make up everything!\"\n",
    "    elif re.search(r'\\b(.*how old are you.*)\\b', user_input):\n",
    "        return \"I don't age like humans. I was created recently to assist you!\"\n",
    "    elif re.search(r'\\b(.*what is your purpose.*)\\b', user_input):\n",
    "        return \"My purpose is to assist users like you with their queries and provide useful information.\"\n",
    "    elif re.search(r'\\b(.*thank you.*|.*thanks.*)\\b', user_input):\n",
    "        return \"You're welcome! If you have more questions, feel free to ask.\"\n",
    "    else:\n",
    "        return \"I'm not sure I understand. Can you please rephrase or ask something else?\"\n",
    "\n",
    "def chatbot():\n",
    "    \"\"\"\n",
    "    Run the chatbot, interacting with the user in a loop.\n",
    "    \"\"\"\n",
    "    print(\"Welcome to SRM chatbot! Type 'bye' to exit.\")\n",
    "    while True:\n",
    "        user_input = input(\"You: \")\n",
    "        if re.search(r'\\b(bye|goodbye|see you)\\b', user_input.lower()):\n",
    "            print(\"Chatbot: \" + get_response(user_input))\n",
    "            break\n",
    "        response = get_response(user_input)\n",
    "        print(\"Chatbot: \" + response)\n",
    "\n",
    "if __name__ == \"__main__\":\n",
    "    chatbot()\n"
   ]
  },
  {
   "cell_type": "code",
   "execution_count": null,
   "id": "3f9fc69c-c181-4a9b-8e82-0bd2dc142d27",
   "metadata": {},
   "outputs": [],
   "source": [
    "THIS IS THE BASIC RULE BASED CHAT RESPONSE THAT I HAVE CREATED USING THE PYTHON LANGUAGE .\n",
    "HOPE SO YOU WILL LIKE THIS TASK-1 OF CODSOFT INTERNSHIP.\n",
    "    LOOKING FOR OTHER WEXCITING TASKS .\n",
    "THANK YOU!!!\n"
   ]
  }
 ],
 "metadata": {
  "kernelspec": {
   "display_name": "Python 3 (ipykernel)",
   "language": "python",
   "name": "python3"
  },
  "language_info": {
   "codemirror_mode": {
    "name": "ipython",
    "version": 3
   },
   "file_extension": ".py",
   "mimetype": "text/x-python",
   "name": "python",
   "nbconvert_exporter": "python",
   "pygments_lexer": "ipython3",
   "version": "3.11.7"
  }
 },
 "nbformat": 4,
 "nbformat_minor": 5
}
